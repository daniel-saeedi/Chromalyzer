{
 "cells": [
  {
   "cell_type": "code",
   "execution_count": 25,
   "metadata": {},
   "outputs": [],
   "source": [
    "mols = [\n",
    "    {\n",
    "        'molecule': 'Naphthalene (1)',\n",
    "        'signature_rank': 1\n",
    "    },\n",
    "    {\n",
    "        'molecule': 'Biphenyl (4)',\n",
    "        'signature_rank': 43\n",
    "    },\n",
    "    {\n",
    "        'molecule': 'Phenanthrene (12)',\n",
    "        'signature_rank': 42\n",
    "    },\n",
    "    {\n",
    "        'molecule': 'Pyrene (20)',\n",
    "        'signature_rank': 12\n",
    "    },\n",
    "    {\n",
    "        'molecule': 'Fluoranthene (19)',\n",
    "        'signature_rank': 13\n",
    "    }\n",
    "]\n",
    "\n",
    "fragments_path = '/usr/scratch/chromalyzer/lr_l2_results/fragments/'"
   ]
  },
  {
   "cell_type": "code",
   "execution_count": 26,
   "metadata": {},
   "outputs": [],
   "source": [
    "import pandas as pd\n",
    "\n",
    "data = []\n",
    "\n",
    "for mol in mols:\n",
    "    rank = mol['signature_rank']\n",
    "    fragment = pd.read_csv(fragments_path + f'rank_{rank}.csv')\n",
    "    \n",
    "    # Split the 'samples' column and count occurrences\n",
    "    sample_counts = fragment['samples'].str.split(',').explode().value_counts()\n",
    "\n",
    "    for sample, count in sample_counts.items():\n",
    "        data.append((mol['molecule'],sample,count))"
   ]
  },
  {
   "cell_type": "code",
   "execution_count": 27,
   "metadata": {},
   "outputs": [
    {
     "data": {
      "text/plain": [
       "[('Naphthalene (1)', ' LEW 85311', 23),\n",
       " ('Naphthalene (1)', 'Murchison', 16),\n",
       " ('Naphthalene (1)', ' Murchison', 13),\n",
       " ('Naphthalene (1)', ' Jbilet Winselwan', 13),\n",
       " ('Naphthalene (1)', 'Orgueil', 10),\n",
       " ('Naphthalene (1)', ' LON 94101', 6),\n",
       " ('Naphthalene (1)', 'LON 94101', 5),\n",
       " ('Naphthalene (1)', ' ALH 83100', 3),\n",
       " ('Naphthalene (1)', ' Aguas Zarcas', 2),\n",
       " ('Naphthalene (1)', 'Jbilet Winselwan', 2),\n",
       " ('Naphthalene (1)', 'ALH 83100', 1),\n",
       " ('Naphthalene (1)', 'LEW 85311', 1),\n",
       " ('Biphenyl (4)', 'Orgueil', 2),\n",
       " ('Biphenyl (4)', ' LEW 85311', 1),\n",
       " ('Biphenyl (4)', 'LEW 85311', 1),\n",
       " ('Phenanthrene (12)', 'Orgueil', 15),\n",
       " ('Phenanthrene (12)', ' LEW 85311', 15),\n",
       " ('Phenanthrene (12)', 'LEW 85311', 3),\n",
       " ('Phenanthrene (12)', 'Utah Soil', 2),\n",
       " ('Phenanthrene (12)', ' Orgueil', 1),\n",
       " ('Phenanthrene (12)', ' ALH 83100', 1),\n",
       " ('Pyrene (20)', 'LEW 85311', 12),\n",
       " ('Pyrene (20)', 'Aguas Zarcas', 9),\n",
       " ('Pyrene (20)', ' LEW 85311', 3),\n",
       " ('Pyrene (20)', 'ALH 83100', 2),\n",
       " ('Pyrene (20)', ' LON 94101', 1),\n",
       " ('Pyrene (20)', 'Lignite', 1),\n",
       " ('Pyrene (20)', ' Orgueil', 1),\n",
       " ('Fluoranthene (19)', 'Orgueil', 9),\n",
       " ('Fluoranthene (19)', 'LEW 85311', 9),\n",
       " ('Fluoranthene (19)', ' LEW 85311', 7),\n",
       " ('Fluoranthene (19)', ' LON 94101', 1),\n",
       " ('Fluoranthene (19)', ' ALH 83100', 1)]"
      ]
     },
     "execution_count": 27,
     "metadata": {},
     "output_type": "execute_result"
    }
   ],
   "source": [
    "data"
   ]
  },
  {
   "cell_type": "code",
   "execution_count": 28,
   "metadata": {},
   "outputs": [],
   "source": [
    "frag = pd.DataFrame(data,columns=['Molecule','Sample','Count'])"
   ]
  },
  {
   "cell_type": "code",
   "execution_count": 39,
   "metadata": {},
   "outputs": [
    {
     "data": {
      "image/png": "[encoded data removed]",
      "text/plain": [
       "<Figure size 300x200 with 1 Axes>"
      ]
     },
     "metadata": {},
     "output_type": "display_data"
    }
   ],
   "source": [
    "import matplotlib.pyplot as plt\n",
    "import numpy as np\n",
    "from collections import defaultdict\n",
    "\n",
    "# Your data\n",
    "\n",
    "# Organize data\n",
    "molecules = defaultdict(lambda: defaultdict(int))\n",
    "for molecule, sample, count in data:\n",
    "    molecules[molecule][sample.strip()] += count\n",
    "\n",
    "# Create a color map for samples\n",
    "all_samples = sorted(set(sample.strip() for _, sample, _ in data))\n",
    "colors = plt.cm.tab20(np.linspace(0, 1, len(all_samples)))\n",
    "sample_colors = dict(zip(all_samples, colors))\n",
    "\n",
    "# Plotting\n",
    "fig, ax = plt.subplots(figsize=(3, 2))\n",
    "\n",
    "x = np.arange(len(molecules))\n",
    "max_samples = max(len(molecule_data) for molecule_data in molecules.values())\n",
    "width = 1 / max_samples\n",
    "\n",
    "for molecule_index, (molecule, sample_data) in enumerate(molecules.items()):\n",
    "    sample_indices = []\n",
    "    heights = []\n",
    "    colors = []\n",
    "    for sample_index, (sample, count) in enumerate(sample_data.items()):\n",
    "        if count > 0:\n",
    "            sample_indices.append(sample_index)\n",
    "            heights.append(count)\n",
    "            colors.append(sample_colors[sample])\n",
    "    \n",
    "    positions = x[molecule_index] + np.array(sample_indices) * width\n",
    "    ax.bar(positions, heights, width, color=colors)\n",
    "\n",
    "# ax.set_xlabel('Molecules')\n",
    "# ax.set_ylabel('Number of Occurrences')\n",
    "# ax.set_title('Molecule Occurrences by Sample')\n",
    "# ax.set_xticks(x + width * (max_samples - 1) / 2)\n",
    "# ax.set_xticklabels(molecules.keys(), rotation=45, ha='right')\n",
    "\n",
    "# Create legend\n",
    "legend_elements = [plt.Rectangle((0, 0), 1, 1, color=color, label=sample) for sample, color in sample_colors.items()]\n",
    "# ax.legend(handles=legend_elements, title='Samples', bbox_to_anchor=(1.05, 1), loc='upper left',fontsize=8)\n",
    "\n",
    "plt.tight_layout()\n",
    "plt.savefig('dist_mole.pdf', format='pdf', bbox_inches='tight', dpi=400)\n",
    "plt.show()"
   ]
  },
  {
   "cell_type": "code",
   "execution_count": 8,
   "metadata": {},
   "outputs": [
    {
     "data": {
      "text/html": [
       "<div>\n",
       "<style scoped>\n",
       "    .dataframe tbody tr th:only-of-type {\n",
       "        vertical-align: middle;\n",
       "    }\n",
       "\n",
       "    .dataframe tbody tr th {\n",
       "        vertical-align: top;\n",
       "    }\n",
       "\n",
       "    .dataframe thead th {\n",
       "        text-align: right;\n",
       "    }\n",
       "</style>\n",
       "<table border=\"1\" class=\"dataframe\">\n",
       "  <thead>\n",
       "    <tr style=\"text-align: right;\">\n",
       "      <th></th>\n",
       "      <th>Chemical Name</th>\n",
       "      <th>Biotic Score</th>\n",
       "      <th>Abiotic Score</th>\n",
       "      <th>Combined Score</th>\n",
       "      <th>Rings</th>\n",
       "    </tr>\n",
       "  </thead>\n",
       "  <tbody>\n",
       "    <tr>\n",
       "      <th>0</th>\n",
       "      <td>Napthalene</td>\n",
       "      <td>-91.869285</td>\n",
       "      <td>-8.685040</td>\n",
       "      <td>-83.184245</td>\n",
       "      <td>2</td>\n",
       "    </tr>\n",
       "    <tr>\n",
       "      <th>1</th>\n",
       "      <td>Biphenyl</td>\n",
       "      <td>-18.037033</td>\n",
       "      <td>-12.223008</td>\n",
       "      <td>-5.814024</td>\n",
       "      <td>2</td>\n",
       "    </tr>\n",
       "    <tr>\n",
       "      <th>2</th>\n",
       "      <td>Phenanthrene</td>\n",
       "      <td>-12.922245</td>\n",
       "      <td>-9.593562</td>\n",
       "      <td>-3.328683</td>\n",
       "      <td>3</td>\n",
       "    </tr>\n",
       "    <tr>\n",
       "      <th>3</th>\n",
       "      <td>Anthracene</td>\n",
       "      <td>-12.431471</td>\n",
       "      <td>-10.165216</td>\n",
       "      <td>-2.266255</td>\n",
       "      <td>3</td>\n",
       "    </tr>\n",
       "    <tr>\n",
       "      <th>4</th>\n",
       "      <td>Acenaphthenes</td>\n",
       "      <td>-15.936400</td>\n",
       "      <td>-10.757709</td>\n",
       "      <td>-5.178691</td>\n",
       "      <td>3</td>\n",
       "    </tr>\n",
       "    <tr>\n",
       "      <th>5</th>\n",
       "      <td>Napthalene 1-phenyl-</td>\n",
       "      <td>-12.510296</td>\n",
       "      <td>-12.222098</td>\n",
       "      <td>-0.288198</td>\n",
       "      <td>3</td>\n",
       "    </tr>\n",
       "    <tr>\n",
       "      <th>6</th>\n",
       "      <td>Pyrene</td>\n",
       "      <td>-12.349144</td>\n",
       "      <td>-9.361463</td>\n",
       "      <td>-2.987681</td>\n",
       "      <td>4</td>\n",
       "    </tr>\n",
       "    <tr>\n",
       "      <th>7</th>\n",
       "      <td>Fluoranthene</td>\n",
       "      <td>-11.659604</td>\n",
       "      <td>-10.245690</td>\n",
       "      <td>-1.413914</td>\n",
       "      <td>4</td>\n",
       "    </tr>\n",
       "  </tbody>\n",
       "</table>\n",
       "</div>"
      ],
      "text/plain": [
       "          Chemical Name  Biotic Score  Abiotic Score  Combined Score  Rings\n",
       "0            Napthalene    -91.869285      -8.685040      -83.184245      2\n",
       "1              Biphenyl    -18.037033     -12.223008       -5.814024      2\n",
       "2          Phenanthrene    -12.922245      -9.593562       -3.328683      3\n",
       "3            Anthracene    -12.431471     -10.165216       -2.266255      3\n",
       "4         Acenaphthenes    -15.936400     -10.757709       -5.178691      3\n",
       "5  Napthalene 1-phenyl-    -12.510296     -12.222098       -0.288198      3\n",
       "6                Pyrene    -12.349144      -9.361463       -2.987681      4\n",
       "7          Fluoranthene    -11.659604     -10.245690       -1.413914      4"
      ]
     },
     "execution_count": 8,
     "metadata": {},
     "output_type": "execute_result"
    }
   ],
   "source": [
    "data"
   ]
  },
  {
   "cell_type": "code",
   "execution_count": 8,
   "metadata": {},
   "outputs": [
    {
     "data": {
      "image/png": "[encoded data removed]",
      "text/plain": [
       "<Figure size 500x400 with 1 Axes>"
      ]
     },
     "metadata": {},
     "output_type": "display_data"
    }
   ],
   "source": [
    "import pandas as pd\n",
    "\n",
    "data = pd.read_csv('data/(rt1, rt2)_logp.csv')\n",
    "# Calculate the average of the absolute Biotic Score, Abiotic Score, and Combined Score per ring number\n",
    "average_scores_per_ring = data.groupby('Rings').agg({\n",
    "    'Biotic Score': lambda x: x.abs().mean(),\n",
    "    'Abiotic Score': lambda x: x.abs().mean(),\n",
    "    'Combined Score': lambda x: x.abs().mean()\n",
    "}).reset_index()\n",
    "\n",
    "import matplotlib.pyplot as plt\n",
    "\n",
    "# Plot the average absolute scores per ring\n",
    "plt.figure(figsize=(5, 4))\n",
    "\n",
    "plt.plot(average_scores_per_ring['Rings'], average_scores_per_ring['Biotic Score'], label='Biotic NLL', marker='o',color='#3d5589', markersize=4)\n",
    "plt.plot(average_scores_per_ring['Rings'], average_scores_per_ring['Abiotic Score'], label='Abiotic NLL', marker='o',color='#e54c35', markersize=4)\n",
    "plt.plot(average_scores_per_ring['Rings'], average_scores_per_ring['Combined Score'], label='Log Ratio', marker='o', color='#B39BE8', markersize=4)\n",
    "\n",
    "plt.rcParams.update({'font.size': 8})  # Updating the font size globally for the plot\n",
    "\n",
    "plt.xticks([2, 3, 4], fontsize=10)  # Set tick font size\n",
    "plt.yticks(fontsize=10)\n",
    "plt.xlabel('Rings', fontsize=10)\n",
    "plt.ylabel('Average NLL', fontsize=10)\n",
    "\n",
    "plt.legend(fontsize=10)\n",
    "plt.grid(False)\n",
    "plt.savefig('NLL_plot.pdf')"
   ]
  },
  {
   "cell_type": "code",
   "execution_count": 20,
   "metadata": {},
   "outputs": [],
   "source": [
    "def bin_and_sum(df, min_mz, max_mz, bin_size=10):\n",
    "    bins = np.arange(min_mz, max_mz + bin_size, bin_size)\n",
    "    binned_data = df.groupby(pd.cut(df['m/z'], bins=bins))['sample_count'].sum().reset_index()\n",
    "    binned_data['m/z_range'] = binned_data['m/z'].apply(lambda x: f\"{int(x.left)}-{int(x.right)}\")\n",
    "    return binned_data"
   ]
  },
  {
   "cell_type": "code",
   "execution_count": 29,
   "metadata": {},
   "outputs": [
    {
     "name": "stderr",
     "output_type": "stream",
     "text": [
      "/tmp/ipykernel_21097/1926082760.py:3: FutureWarning: The default of observed=False is deprecated and will be changed to True in a future version of pandas. Pass observed=False to retain current behavior or observed=True to adopt the future default and silence this warning.\n",
      "  binned_data = df.groupby(pd.cut(df['m/z'], bins=bins))['sample_count'].sum().reset_index()\n"
     ]
    },
    {
     "data": {
      "image/png": "[encoded data removed]",
      "text/plain": [
       "<Figure size 185x110 with 1 Axes>"
      ]
     },
     "metadata": {},
     "output_type": "display_data"
    },
    {
     "name": "stderr",
     "output_type": "stream",
     "text": [
      "/tmp/ipykernel_21097/1926082760.py:3: FutureWarning: The default of observed=False is deprecated and will be changed to True in a future version of pandas. Pass observed=False to retain current behavior or observed=True to adopt the future default and silence this warning.\n",
      "  binned_data = df.groupby(pd.cut(df['m/z'], bins=bins))['sample_count'].sum().reset_index()\n"
     ]
    },
    {
     "data": {
      "image/png": "[encoded data removed]",
      "text/plain": [
       "<Figure size 185x110 with 1 Axes>"
      ]
     },
     "metadata": {},
     "output_type": "display_data"
    },
    {
     "name": "stderr",
     "output_type": "stream",
     "text": [
      "/tmp/ipykernel_21097/1926082760.py:3: FutureWarning: The default of observed=False is deprecated and will be changed to True in a future version of pandas. Pass observed=False to retain current behavior or observed=True to adopt the future default and silence this warning.\n",
      "  binned_data = df.groupby(pd.cut(df['m/z'], bins=bins))['sample_count'].sum().reset_index()\n"
     ]
    },
    {
     "data": {
      "image/png": "[encoded data removed]",
      "text/plain": [
       "<Figure size 185x110 with 1 Axes>"
      ]
     },
     "metadata": {},
     "output_type": "display_data"
    },
    {
     "name": "stderr",
     "output_type": "stream",
     "text": [
      "/tmp/ipykernel_21097/1926082760.py:3: FutureWarning: The default of observed=False is deprecated and will be changed to True in a future version of pandas. Pass observed=False to retain current behavior or observed=True to adopt the future default and silence this warning.\n",
      "  binned_data = df.groupby(pd.cut(df['m/z'], bins=bins))['sample_count'].sum().reset_index()\n"
     ]
    },
    {
     "data": {
      "image/png": "[encoded data removed]",
      "text/plain": [
       "<Figure size 185x110 with 1 Axes>"
      ]
     },
     "metadata": {},
     "output_type": "display_data"
    },
    {
     "name": "stderr",
     "output_type": "stream",
     "text": [
      "/tmp/ipykernel_21097/1926082760.py:3: FutureWarning: The default of observed=False is deprecated and will be changed to True in a future version of pandas. Pass observed=False to retain current behavior or observed=True to adopt the future default and silence this warning.\n",
      "  binned_data = df.groupby(pd.cut(df['m/z'], bins=bins))['sample_count'].sum().reset_index()\n"
     ]
    },
    {
     "data": {
      "image/png": "[encoded data removed]",
      "text/plain": [
       "<Figure size 185x110 with 1 Axes>"
      ]
     },
     "metadata": {},
     "output_type": "display_data"
    }
   ],
   "source": [
    "import pandas as pd\n",
    "import matplotlib.pyplot as plt\n",
    "import numpy as np\n",
    "import pandas as pd\n",
    "import numpy as np\n",
    "import matplotlib.pyplot as plt\n",
    "from matplotlib.ticker import MaxNLocator\n",
    "\n",
    "\n",
    "\n",
    "mols = [\n",
    "    {\n",
    "        'molecule': 'Naphthalene',\n",
    "        'signature_rank': 1,\n",
    "    },\n",
    "    {\n",
    "        'molecule': 'Biphenyl',\n",
    "        'signature_rank': 43\n",
    "    },\n",
    "    {\n",
    "        'molecule': 'Phenanthrene)',\n",
    "        'signature_rank': 42\n",
    "    },\n",
    "    {\n",
    "        'molecule': 'Pyrene',\n",
    "        'signature_rank': 12\n",
    "    },\n",
    "    {\n",
    "        'molecule': 'Fluoranthene',\n",
    "        'signature_rank': 13\n",
    "    }\n",
    "]\n",
    "\n",
    "for mol in mols:\n",
    "    molecule = mol['molecule']\n",
    "    rank = mol['signature_rank']\n",
    "\n",
    "    # Read the CSV file\n",
    "    df = pd.read_csv(f'/usr/scratch/chromalyzer/lr_l2_results/fragments/rank_{rank}.csv')\n",
    "\n",
    "    # Extract m/z values and count samples\n",
    "    m_z_values = df['m/z']\n",
    "    sample_counts = df['samples'].apply(lambda x: len(x.split(',')))\n",
    "\n",
    "    df['sample_count'] = sample_counts\n",
    "\n",
    "    # Assuming your dataframe is named 'df'\n",
    "    bin_size = 10\n",
    "    binned_data = bin_and_sum(df, 30, 230, bin_size)\n",
    "\n",
    "    fig, ax = plt.subplots(figsize=(1.85, 1.1))\n",
    "    bars = ax.bar(range(len(binned_data)), binned_data['sample_count'], width=0.8, color='black')\n",
    "\n",
    "    ax.grid(True, axis='y', alpha=0.3)\n",
    "\n",
    "    # Select a few bins to show labels for\n",
    "    num_labels = 8\n",
    "    label_indices = np.linspace(0, len(binned_data) - 1, num_labels, dtype=int)\n",
    "\n",
    "    # Create labels and positions for selected bins\n",
    "    selected_labels = [binned_data['m/z_range'].iloc[i] if i in label_indices else '' for i in range(len(binned_data))]\n",
    "    x_positions = range(len(binned_data))\n",
    "\n",
    "    ax.set_xticks(x_positions)\n",
    "    ax.set_xticklabels(selected_labels, rotation=90, ha='center', fontsize=8)\n",
    "\n",
    "    # Remove x-labels for non-selected bins\n",
    "    for label, idx in zip(ax.get_xticklabels(), range(len(binned_data))):\n",
    "        if idx not in label_indices:\n",
    "            label.set_visible(False)\n",
    "\n",
    "    ax.tick_params(axis='y', labelsize=8)\n",
    "\n",
    "    # Remove white space from left and right\n",
    "    ax.set_xlim(-0.5, len(binned_data) - 0.5)\n",
    "\n",
    "     # Set y-axis to use only integers\n",
    "    ax.yaxis.set_major_locator(MaxNLocator(integer=True, nbins=4))\n",
    "\n",
    "    # Adjust layout and remove extra white space\n",
    "    plt.tight_layout()\n",
    "    fig.subplots_adjust(left=0.1, right=0.98, bottom=0.2, top=0.98)\n",
    "\n",
    "    ax.grid(False)\n",
    "\n",
    "    plt.savefig(f'{molecule}.pdf', bbox_inches='tight', pad_inches=0)\n",
    "    plt.show()"
   ]
  },
  {
   "cell_type": "code",
   "execution_count": null,
   "metadata": {},
   "outputs": [],
   "source": []
  }
 ],
 "metadata": {
  "kernelspec": {
   "display_name": "Python 3",
   "language": "python",
   "name": "python3"
  },
  "language_info": {
   "codemirror_mode": {
    "name": "ipython",
    "version": 3
   },
   "file_extension": ".py",
   "mimetype": "text/x-python",
   "name": "python",
   "nbconvert_exporter": "python",
   "pygments_lexer": "ipython3",
   "version": "3.10.14"
  }
 },
 "nbformat": 4,
 "nbformat_minor": 2
}
